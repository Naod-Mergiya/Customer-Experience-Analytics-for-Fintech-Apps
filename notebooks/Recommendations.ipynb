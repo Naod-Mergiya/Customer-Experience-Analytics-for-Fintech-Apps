{
 "cells": [
  {
   "cell_type": "code",
   "execution_count": 5,
   "id": "df5abe0e",
   "metadata": {},
   "outputs": [
    {
     "name": "stdout",
     "output_type": "stream",
     "text": [
      "Index(['rating', 'date', 'review', 'bank', 'source', 'sentiment_label',\n",
      "       'sentiment_score'],\n",
      "      dtype='object')\n",
      "   rating                 date  \\\n",
      "0       5  2025-06-09 18:31:56   \n",
      "1       5  2025-06-09 16:20:06   \n",
      "2       4  2025-06-09 11:49:09   \n",
      "3       1  2025-06-09 01:24:23   \n",
      "4       5  2025-06-08 21:52:23   \n",
      "\n",
      "                                              review bank       source  \\\n",
      "0                         So bad now and hard to use  CBE  Google Play   \n",
      "1  it is so amazing app. but, it is better to upd...  CBE  Google Play   \n",
      "2                                         v.good app  CBE  Google Play   \n",
      "3                                      very good app  CBE  Google Play   \n",
      "4           Very amazing app indeed. I'm enjoying it  CBE  Google Play   \n",
      "\n",
      "  sentiment_label  sentiment_score  \n",
      "0        negative         0.999806  \n",
      "1        positive         0.949643  \n",
      "2        positive         0.995270  \n",
      "3        positive         0.999868  \n",
      "4        positive         0.999882  \n"
     ]
    }
   ],
   "source": [
    "# 1. Imports and Setup\n",
    "\n",
    "import pandas as pd\n",
    "import ast\n",
    "import sys\n",
    "import re\n",
    "import os\n",
    "sys.path.append(os.path.abspath(\"../src\"))\n",
    "from collections import Counter\n",
    "project_root = os.path.abspath(\"..\")\n",
    "from sklearn.feature_extraction.text import ENGLISH_STOP_WORDS\n",
    "data_path = os.path.join(project_root, \"data\", \"reviews_with_sentiment.csv\")\n",
    "from collections import Counter\n",
    "from sklearn.feature_extraction.text import ENGLISH_STOP_WORDS\n",
    "root_dir = os.path.abspath(os.path.join(os.getcwd(), \"..\"))  # Adjust based on your project structure\n",
    "sys.path.append(root_dir)\n",
    "from script.visualization import plot_sentiment_trends, plot_rating_distribution, plot_keyword_cloud\n",
    "df = pd.read_csv(data_path)\n",
    "\n",
    "from script.insights import extract_drivers_painpoints, compare_banks\n",
    "from script.recommendations import generate_recommendations\n",
    "from script.visualization import plot_sentiment_trends, plot_rating_distribution, plot_keyword_cloud\n",
    "from script.ethics import note_biases\n",
    "df = df.drop(['user_name', 'review_id'], axis=1)\n",
    "print(df.columns)\n",
    "print(df.head())\n"
   ]
  },
  {
   "cell_type": "code",
   "execution_count": 6,
   "id": "94680d72",
   "metadata": {},
   "outputs": [
    {
     "name": "stdout",
     "output_type": "stream",
     "text": [
      "derived_sentiment\n",
      "positive    847\n",
      "negative    290\n",
      "neutral      63\n",
      "Name: count, dtype: int64\n",
      "{'CBE': {'drivers': ['app', 'good', 'best', 'nice', 'cbe'], 'painpoints': ['app', 'good', 'banking', 'bank', 'screenshot']}, 'BOA': {'drivers': ['good', 'app', 'best', 'boa', 'nice'], 'painpoints': ['app', 'bank', 'work', 'mobile', 'banking']}, 'Dashen': {'drivers': ['app', 'dashen', 'banking', 'super', 'bank'], 'painpoints': ['app', 'good', 'bank', 'slow', 'working']}}\n"
     ]
    }
   ],
   "source": [
    "def map_rating_to_sentiment(rating):\n",
    "    if rating >= 4:\n",
    "        return 'positive'\n",
    "    elif rating <= 2:\n",
    "        return 'negative'\n",
    "    else:\n",
    "        return 'neutral'\n",
    "\n",
    "df['derived_sentiment'] = df['rating'].apply(map_rating_to_sentiment)\n",
    "print(df['derived_sentiment'].value_counts()) \n",
    "\n",
    "def get_top_words(texts, n=5):\n",
    "    words = []\n",
    "    for text in texts:\n",
    "        tokens = re.findall(r'\\b[a-z]{3,}\\b', str(text).lower())\n",
    "        words.extend([w for w in tokens if w not in ENGLISH_STOP_WORDS])\n",
    "    return [w for w, _ in Counter(words).most_common(n)]\n",
    "\n",
    "def extract_drivers_painpoints(\n",
    "    df,\n",
    "    sentiment_col='derived_sentiment',  \n",
    "    text_col='review',\n",
    "    bank_col='bank'\n",
    "):\n",
    "    insights = {}\n",
    "    for bank in df[bank_col].unique():\n",
    "        bank_df = df[df[bank_col] == bank]\n",
    "        pos_texts = bank_df[bank_df[sentiment_col] == 'positive'][text_col]\n",
    "        neg_texts = bank_df[bank_df[sentiment_col] == 'negative'][text_col]\n",
    "        insights[bank] = {\n",
    "            'drivers': get_top_words(pos_texts),\n",
    "            'painpoints': get_top_words(neg_texts)\n",
    "        }\n",
    "    return insights\n",
    "\n",
    "insights = extract_drivers_painpoints(df)\n",
    "print(insights)"
   ]
  },
  {
   "cell_type": "code",
   "execution_count": 7,
   "id": "0cf21b87",
   "metadata": {},
   "outputs": [
    {
     "name": "stdout",
     "output_type": "stream",
     "text": [
      "Recommendations for CBE:\n",
      " - Address customer concern: 'app' (e.g., improve this area)\n",
      " - Address customer concern: 'good' (e.g., improve this area)\n",
      "\n",
      "Recommendations for BOA:\n",
      " - Address customer concern: 'app' (e.g., improve this area)\n",
      " - Address customer concern: 'bank' (e.g., improve this area)\n",
      "\n",
      "Recommendations for Dashen:\n",
      " - Address customer concern: 'app' (e.g., improve this area)\n",
      " - Address customer concern: 'good' (e.g., improve this area)\n",
      "\n"
     ]
    }
   ],
   "source": [
    "## Recommendations\n",
    "recommendations = generate_recommendations(insights)\n",
    "for bank, recs in recommendations.items():\n",
    "    print(f\"Recommendations for {bank}:\")\n",
    "    for rec in recs[:2]:  # At least 2 improvements\n",
    "        print(\" -\", rec)\n",
    "    print()"
   ]
  }
 ],
 "metadata": {
  "kernelspec": {
   "display_name": "venv",
   "language": "python",
   "name": "python3"
  },
  "language_info": {
   "codemirror_mode": {
    "name": "ipython",
    "version": 3
   },
   "file_extension": ".py",
   "mimetype": "text/x-python",
   "name": "python",
   "nbconvert_exporter": "python",
   "pygments_lexer": "ipython3",
   "version": "3.13.3"
  }
 },
 "nbformat": 4,
 "nbformat_minor": 5
}
