{
 "cells": [
  {
   "cell_type": "code",
   "execution_count": null,
   "id": "df5abe0e",
   "metadata": {},
   "outputs": [],
   "source": [
    "# 1. Imports and Setup\n",
    "\n",
    "import pandas as pd\n",
    "import ast\n",
    "import sys\n",
    "import re\n",
    "import os\n",
    "sys.path.append(os.path.abspath(\"../src\"))\n",
    "from collections import Counter\n",
    "project_root = os.path.abspath(\"..\")\n",
    "from sklearn.feature_extraction.text import ENGLISH_STOP_WORDS\n",
    "data_path = os.path.join(project_root, \"data\", \"reviews_with_sentiment.csv\")\n",
    "from collections import Counter\n",
    "from sklearn.feature_extraction.text import ENGLISH_STOP_WORDS\n",
    "from analysis.visualization import plot_sentiment_trends, plot_rating_distribution, plot_keyword_cloud\n",
    "df = pd.read_csv(data_path)\n",
    "\n",
    "from analysis.insights import extract_drivers_painpoints, compare_banks\n",
    "from analysis.recommendations import generate_recommendations\n",
    "from analysis.visualization import plot_sentiment_trends, plot_rating_distribution, plot_keyword_cloud\n",
    "from analysis.ethics import note_biases"
   ]
  }
 ],
 "metadata": {
  "kernelspec": {
   "display_name": "venv",
   "language": "python",
   "name": "python3"
  },
  "language_info": {
   "name": "python",
   "version": "3.13.3"
  }
 },
 "nbformat": 4,
 "nbformat_minor": 5
}
