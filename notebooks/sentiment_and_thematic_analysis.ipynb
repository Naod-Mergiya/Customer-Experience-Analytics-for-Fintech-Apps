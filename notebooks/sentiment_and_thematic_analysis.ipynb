{
 "cells": [
  {
   "cell_type": "code",
   "execution_count": 102,
   "id": "a559b890",
   "metadata": {},
   "outputs": [
    {
     "name": "stdout",
     "output_type": "stream",
     "text": [
      "Added e:\\KAIM\\Customer-Experience-Analytics-for-Fintech-Apps to sys.path\n",
      "Current working directory: e:\\KAIM\\Customer-Experience-Analytics-for-Fintech-Apps\\notebooks\n",
      "Python path: ['C:\\\\Users\\\\Naod.Amare\\\\AppData\\\\Local\\\\Programs\\\\Python\\\\Python313\\\\python313.zip', 'C:\\\\Users\\\\Naod.Amare\\\\AppData\\\\Local\\\\Programs\\\\Python\\\\Python313\\\\DLLs', 'C:\\\\Users\\\\Naod.Amare\\\\AppData\\\\Local\\\\Programs\\\\Python\\\\Python313\\\\Lib', 'C:\\\\Users\\\\Naod.Amare\\\\AppData\\\\Local\\\\Programs\\\\Python\\\\Python313', 'e:\\\\KAIM\\\\Customer-Experience-Analytics-for-Fintech-Apps\\\\venv', '', 'e:\\\\KAIM\\\\Customer-Experience-Analytics-for-Fintech-Apps\\\\venv\\\\Lib\\\\site-packages', 'e:\\\\KAIM\\\\Customer-Experience-Analytics-for-Fintech-Apps\\\\venv\\\\Lib\\\\site-packages\\\\win32', 'e:\\\\KAIM\\\\Customer-Experience-Analytics-for-Fintech-Apps\\\\venv\\\\Lib\\\\site-packages\\\\win32\\\\lib', 'e:\\\\KAIM\\\\Customer-Experience-Analytics-for-Fintech-Apps\\\\venv\\\\Lib\\\\site-packages\\\\Pythonwin', 'e:\\\\KAIM', 'e:\\\\KAIM', 'e:\\\\KAIM\\\\Customer-Experience-Analytics-for-Fintech-Apps', 'e:\\\\KAIM\\\\Customer-Experience-Analytics-for-Fintech-Apps', 'e:\\\\KAIM\\\\Customer-Experience-Analytics-for-Fintech-Apps', 'e:\\\\KAIM\\\\Customer-Experience-Analytics-for-Fintech-Apps', 'e:\\\\KAIM\\\\Customer-Experience-Analytics-for-Fintech-Apps', 'e:\\\\KAIM\\\\Customer-Experience-Analytics-for-Fintech-Apps', 'e:\\\\KAIM\\\\Customer-Experience-Analytics-for-Fintech-Apps', 'e:\\\\KAIM\\\\Customer-Experience-Analytics-for-Fintech-Apps', 'e:\\\\KAIM\\\\Customer-Experience-Analytics-for-Fintech-Apps', 'e:\\\\KAIM\\\\Customer-Experience-Analytics-for-Fintech-Apps']\n"
     ]
    }
   ],
   "source": [
    "import pandas as pd\n",
    "import pyodbc\n",
    "import psycopg2\n",
    "from sqlalchemy import create_engine,text\n",
    "import sys\n",
    "import os\n",
    "import sys\n",
    "import os\n",
    "\n",
    "root_dir = os.path.abspath(os.path.join(os.getcwd(), \"..\"))  # Adjust based on your project structure\n",
    "sys.path.append(root_dir)\n",
    "from script.sentiment_analysis import add_sentiment, aggregate_sentiment\n",
    "from script.thematic_analysis import assign_themes\n",
    "from script.db_util import *\n",
    "from script.insert_to_db import *\n",
    "print(f\"Added {root_dir} to sys.path\")\n",
    "# Debug: Print current working directory and Python path\n",
    "print('Current working directory:', os.getcwd())\n",
    "print('Python path:', sys.path)"
   ]
  },
  {
   "cell_type": "code",
   "execution_count": 100,
   "id": "decde1ce",
   "metadata": {},
   "outputs": [
    {
     "name": "stdout",
     "output_type": "stream",
     "text": [
      "   exists\n",
      "0    True\n"
     ]
    }
   ],
   "source": [
    "# Query to check if the 'reviews' table exists in the 'public' schema\n",
    "result = pd.read_sql(\"SELECT EXISTS (SELECT FROM information_schema.tables WHERE table_schema = 'public' AND table_name = 'reviews')\", engine)\n",
    "print(result.head())"
   ]
  },
  {
   "cell_type": "code",
   "execution_count": 32,
   "id": "a21d54e8",
   "metadata": {},
   "outputs": [
    {
     "data": {
      "text/html": [
       "<div>\n",
       "<style scoped>\n",
       "    .dataframe tbody tr th:only-of-type {\n",
       "        vertical-align: middle;\n",
       "    }\n",
       "\n",
       "    .dataframe tbody tr th {\n",
       "        vertical-align: top;\n",
       "    }\n",
       "\n",
       "    .dataframe thead th {\n",
       "        text-align: right;\n",
       "    }\n",
       "</style>\n",
       "<table border=\"1\" class=\"dataframe\">\n",
       "  <thead>\n",
       "    <tr style=\"text-align: right;\">\n",
       "      <th></th>\n",
       "      <th>user_name</th>\n",
       "      <th>rating</th>\n",
       "      <th>date</th>\n",
       "      <th>review</th>\n",
       "      <th>review_id</th>\n",
       "      <th>bank</th>\n",
       "      <th>source</th>\n",
       "    </tr>\n",
       "  </thead>\n",
       "  <tbody>\n",
       "    <tr>\n",
       "      <th>0</th>\n",
       "      <td>Daniel Ephrem</td>\n",
       "      <td>5</td>\n",
       "      <td>2025-06-09 18:31:56</td>\n",
       "      <td>So bad now and hard to use</td>\n",
       "      <td>0</td>\n",
       "      <td>CBE</td>\n",
       "      <td>Google Play</td>\n",
       "    </tr>\n",
       "    <tr>\n",
       "      <th>1</th>\n",
       "      <td>abdulkerim habib</td>\n",
       "      <td>5</td>\n",
       "      <td>2025-06-09 16:20:06</td>\n",
       "      <td>it is so amazing app. but, it is better to upd...</td>\n",
       "      <td>1</td>\n",
       "      <td>CBE</td>\n",
       "      <td>Google Play</td>\n",
       "    </tr>\n",
       "    <tr>\n",
       "      <th>2</th>\n",
       "      <td>Abdulhalim Bedre</td>\n",
       "      <td>4</td>\n",
       "      <td>2025-06-09 11:49:09</td>\n",
       "      <td>v.good app</td>\n",
       "      <td>2</td>\n",
       "      <td>CBE</td>\n",
       "      <td>Google Play</td>\n",
       "    </tr>\n",
       "    <tr>\n",
       "      <th>3</th>\n",
       "      <td>Moha Yimer</td>\n",
       "      <td>1</td>\n",
       "      <td>2025-06-09 01:24:23</td>\n",
       "      <td>very good app</td>\n",
       "      <td>3</td>\n",
       "      <td>CBE</td>\n",
       "      <td>Google Play</td>\n",
       "    </tr>\n",
       "    <tr>\n",
       "      <th>4</th>\n",
       "      <td>Puoch chuol Wath</td>\n",
       "      <td>5</td>\n",
       "      <td>2025-06-08 21:52:23</td>\n",
       "      <td>Very amazing app indeed. I'm enjoying it</td>\n",
       "      <td>4</td>\n",
       "      <td>CBE</td>\n",
       "      <td>Google Play</td>\n",
       "    </tr>\n",
       "  </tbody>\n",
       "</table>\n",
       "</div>"
      ],
      "text/plain": [
       "          user_name  rating                 date  \\\n",
       "0     Daniel Ephrem       5  2025-06-09 18:31:56   \n",
       "1  abdulkerim habib       5  2025-06-09 16:20:06   \n",
       "2  Abdulhalim Bedre       4  2025-06-09 11:49:09   \n",
       "3        Moha Yimer       1  2025-06-09 01:24:23   \n",
       "4  Puoch chuol Wath       5  2025-06-08 21:52:23   \n",
       "\n",
       "                                              review  review_id bank  \\\n",
       "0                         So bad now and hard to use          0  CBE   \n",
       "1  it is so amazing app. but, it is better to upd...          1  CBE   \n",
       "2                                         v.good app          2  CBE   \n",
       "3                                      very good app          3  CBE   \n",
       "4           Very amazing app indeed. I'm enjoying it          4  CBE   \n",
       "\n",
       "        source  \n",
       "0  Google Play  \n",
       "1  Google Play  \n",
       "2  Google Play  \n",
       "3  Google Play  \n",
       "4  Google Play  "
      ]
     },
     "execution_count": 32,
     "metadata": {},
     "output_type": "execute_result"
    }
   ],
   "source": [
    "# Load data\n",
    "file_path = os.path.join('..', 'data', 'clean_reviews.csv')\n",
    "df = pd.read_csv(file_path)\n",
    "df.head()"
   ]
  },
  {
   "cell_type": "code",
   "execution_count": 33,
   "id": "f53c17db",
   "metadata": {},
   "outputs": [
    {
     "data": {
      "text/html": [
       "<div>\n",
       "<style scoped>\n",
       "    .dataframe tbody tr th:only-of-type {\n",
       "        vertical-align: middle;\n",
       "    }\n",
       "\n",
       "    .dataframe tbody tr th {\n",
       "        vertical-align: top;\n",
       "    }\n",
       "\n",
       "    .dataframe thead th {\n",
       "        text-align: right;\n",
       "    }\n",
       "</style>\n",
       "<table border=\"1\" class=\"dataframe\">\n",
       "  <thead>\n",
       "    <tr style=\"text-align: right;\">\n",
       "      <th></th>\n",
       "      <th>review</th>\n",
       "      <th>sentiment_label</th>\n",
       "      <th>sentiment_score</th>\n",
       "    </tr>\n",
       "  </thead>\n",
       "  <tbody>\n",
       "    <tr>\n",
       "      <th>0</th>\n",
       "      <td>So bad now and hard to use</td>\n",
       "      <td>negative</td>\n",
       "      <td>0.999806</td>\n",
       "    </tr>\n",
       "    <tr>\n",
       "      <th>1</th>\n",
       "      <td>it is so amazing app. but, it is better to upd...</td>\n",
       "      <td>positive</td>\n",
       "      <td>0.949643</td>\n",
       "    </tr>\n",
       "    <tr>\n",
       "      <th>2</th>\n",
       "      <td>v.good app</td>\n",
       "      <td>positive</td>\n",
       "      <td>0.995270</td>\n",
       "    </tr>\n",
       "    <tr>\n",
       "      <th>3</th>\n",
       "      <td>very good app</td>\n",
       "      <td>positive</td>\n",
       "      <td>0.999868</td>\n",
       "    </tr>\n",
       "    <tr>\n",
       "      <th>4</th>\n",
       "      <td>Very amazing app indeed. I'm enjoying it</td>\n",
       "      <td>positive</td>\n",
       "      <td>0.999882</td>\n",
       "    </tr>\n",
       "  </tbody>\n",
       "</table>\n",
       "</div>"
      ],
      "text/plain": [
       "                                              review sentiment_label  \\\n",
       "0                         So bad now and hard to use        negative   \n",
       "1  it is so amazing app. but, it is better to upd...        positive   \n",
       "2                                         v.good app        positive   \n",
       "3                                      very good app        positive   \n",
       "4           Very amazing app indeed. I'm enjoying it        positive   \n",
       "\n",
       "   sentiment_score  \n",
       "0         0.999806  \n",
       "1         0.949643  \n",
       "2         0.995270  \n",
       "3         0.999868  \n",
       "4         0.999882  "
      ]
     },
     "execution_count": 33,
     "metadata": {},
     "output_type": "execute_result"
    }
   ],
   "source": [
    "df = add_sentiment(df)\n",
    "df[[\"review\", \"sentiment_label\", \"sentiment_score\"]].head()"
   ]
  },
  {
   "cell_type": "code",
   "execution_count": 36,
   "id": "af4526bb",
   "metadata": {},
   "outputs": [
    {
     "data": {
      "text/html": [
       "<div>\n",
       "<style scoped>\n",
       "    .dataframe tbody tr th:only-of-type {\n",
       "        vertical-align: middle;\n",
       "    }\n",
       "\n",
       "    .dataframe tbody tr th {\n",
       "        vertical-align: top;\n",
       "    }\n",
       "\n",
       "    .dataframe thead th {\n",
       "        text-align: right;\n",
       "    }\n",
       "</style>\n",
       "<table border=\"1\" class=\"dataframe\">\n",
       "  <thead>\n",
       "    <tr style=\"text-align: right;\">\n",
       "      <th></th>\n",
       "      <th>bank</th>\n",
       "      <th>rating</th>\n",
       "      <th>sentiment_score</th>\n",
       "    </tr>\n",
       "  </thead>\n",
       "  <tbody>\n",
       "    <tr>\n",
       "      <th>0</th>\n",
       "      <td>BOA</td>\n",
       "      <td>1</td>\n",
       "      <td>0.977978</td>\n",
       "    </tr>\n",
       "    <tr>\n",
       "      <th>1</th>\n",
       "      <td>BOA</td>\n",
       "      <td>2</td>\n",
       "      <td>0.935626</td>\n",
       "    </tr>\n",
       "    <tr>\n",
       "      <th>2</th>\n",
       "      <td>BOA</td>\n",
       "      <td>3</td>\n",
       "      <td>0.961892</td>\n",
       "    </tr>\n",
       "    <tr>\n",
       "      <th>3</th>\n",
       "      <td>BOA</td>\n",
       "      <td>4</td>\n",
       "      <td>0.958368</td>\n",
       "    </tr>\n",
       "    <tr>\n",
       "      <th>4</th>\n",
       "      <td>BOA</td>\n",
       "      <td>5</td>\n",
       "      <td>0.958823</td>\n",
       "    </tr>\n",
       "  </tbody>\n",
       "</table>\n",
       "</div>"
      ],
      "text/plain": [
       "  bank  rating  sentiment_score\n",
       "0  BOA       1         0.977978\n",
       "1  BOA       2         0.935626\n",
       "2  BOA       3         0.961892\n",
       "3  BOA       4         0.958368\n",
       "4  BOA       5         0.958823"
      ]
     },
     "execution_count": 36,
     "metadata": {},
     "output_type": "execute_result"
    }
   ],
   "source": [
    "agg = aggregate_sentiment(df)\n",
    "agg.head()\n"
   ]
  },
  {
   "cell_type": "code",
   "execution_count": 37,
   "id": "e508a116",
   "metadata": {},
   "outputs": [
    {
     "name": "stderr",
     "output_type": "stream",
     "text": [
      "e:\\KAIM\\Customer-Experience-Analytics-for-Fintech-Apps\\venv\\Lib\\site-packages\\sklearn\\feature_extraction\\text.py:402: UserWarning: Your stop_words may be inconsistent with your preprocessing. Tokenizing the stop words generated tokens ['ll', 've'] not in stop_words.\n",
      "  warnings.warn(\n"
     ]
    },
    {
     "data": {
      "text/plain": [
       "{'Other': ['good',\n",
       "  'app',\n",
       "  'good app',\n",
       "  'nice',\n",
       "  'work',\n",
       "  'ok',\n",
       "  'wow',\n",
       "  'like',\n",
       "  'bank',\n",
       "  'amazing',\n",
       "  'fast',\n",
       "  'use',\n",
       "  'great',\n",
       "  'easy',\n",
       "  'banking',\n",
       "  'bad',\n",
       "  'excellent',\n",
       "  'application',\n",
       "  'dashen',\n",
       "  'super']}"
      ]
     },
     "execution_count": 37,
     "metadata": {},
     "output_type": "execute_result"
    }
   ],
   "source": [
    "themes = assign_themes(df)\n",
    "themes"
   ]
  },
  {
   "cell_type": "markdown",
   "id": "61b398ad",
   "metadata": {},
   "source": [
    "#### Load the Data to csv"
   ]
  },
  {
   "cell_type": "code",
   "execution_count": 38,
   "id": "a4f36eda",
   "metadata": {},
   "outputs": [],
   "source": [
    "df.to_csv(\"../data/reviews_with_sentiment.csv\", index=False)\n",
    "agg.to_csv(\"../data/sentiment_aggregate.csv\", index=False)"
   ]
  },
  {
   "cell_type": "markdown",
   "id": "2a4515d3",
   "metadata": {},
   "source": [
    "#### dump banksdata to banks table"
   ]
  },
  {
   "cell_type": "code",
   "execution_count": 54,
   "id": "9b485089",
   "metadata": {},
   "outputs": [],
   "source": [
    "# Assuming 'df' is your original DataFrame\n",
    "pg_bank=write_unique_banks_to_postgres(df, engine)\n"
   ]
  },
  {
   "cell_type": "markdown",
   "id": "0c6c4b85",
   "metadata": {},
   "source": [
    "#### dump review data to reviews table"
   ]
  },
  {
   "cell_type": "code",
   "execution_count": 95,
   "id": "069c77cf",
   "metadata": {},
   "outputs": [],
   "source": [
    "pg_reviews= insert_reviews(df,engine )"
   ]
  },
  {
   "cell_type": "markdown",
   "id": "b9566f67",
   "metadata": {},
   "source": [
    "#### Validate the reviews if its load to the DB"
   ]
  },
  {
   "cell_type": "code",
   "execution_count": 97,
   "id": "0ba35563",
   "metadata": {},
   "outputs": [
    {
     "name": "stdout",
     "output_type": "stream",
     "text": [
      "  name                                             review  rating  \\\n",
      "0  CBE                         So bad now and hard to use       5   \n",
      "1  CBE  it is so amazing app. but, it is better to upd...       5   \n",
      "2  CBE                                         v.good app       4   \n",
      "3  CBE                                      very good app       1   \n",
      "4  CBE           Very amazing app indeed. I'm enjoying it       5   \n",
      "\n",
      "           review_date       source sentiment_label  sentiment_score  \n",
      "0  2025-06-09 18:31:56  Google Play        negative         0.999806  \n",
      "1  2025-06-09 16:20:06  Google Play        positive         0.949643  \n",
      "2  2025-06-09 11:49:09  Google Play        positive         0.995270  \n",
      "3  2025-06-09 01:24:23  Google Play        positive         0.999868  \n",
      "4  2025-06-08 21:52:23  Google Play        positive         0.999882  \n"
     ]
    }
   ],
   "source": [
    "# Query to check if the 'reviews' table exists in the 'public' schema\n",
    "result = pd.read_sql(\"SELECT * from reviews\", engine)\n",
    "print(result.head())"
   ]
  }
 ],
 "metadata": {
  "kernelspec": {
   "display_name": "venv",
   "language": "python",
   "name": "python3"
  },
  "language_info": {
   "codemirror_mode": {
    "name": "ipython",
    "version": 3
   },
   "file_extension": ".py",
   "mimetype": "text/x-python",
   "name": "python",
   "nbconvert_exporter": "python",
   "pygments_lexer": "ipython3",
   "version": "3.13.3"
  }
 },
 "nbformat": 4,
 "nbformat_minor": 5
}
